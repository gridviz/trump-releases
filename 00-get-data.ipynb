{
 "cells": [
  {
   "cell_type": "markdown",
   "id": "1b2e91cc-c193-4d32-8c8f-7919a07dda34",
   "metadata": {},
   "source": [
    "# Trump press releases"
   ]
  },
  {
   "cell_type": "markdown",
   "id": "86e8e1cc-a0a7-419a-80af-fb4a4501e0ae",
   "metadata": {},
   "source": [
    "#### Load python tools"
   ]
  },
  {
   "cell_type": "code",
   "execution_count": 1,
   "id": "6add25fe-7eeb-4236-aba3-190077c97738",
   "metadata": {},
   "outputs": [],
   "source": [
    "import pandas as pd\n",
    "import requests\n",
    "from bs4 import BeautifulSoup\n",
    "import os\n",
    "import datetime as dt\n",
    "import smtplib\n",
    "from email.message import EmailMessage"
   ]
  },
  {
   "cell_type": "code",
   "execution_count": 2,
   "id": "33bdf243-e479-442e-96b1-c20f762d4d91",
   "metadata": {},
   "outputs": [],
   "source": [
    "pd.options.display.max_columns = 1000\n",
    "pd.options.display.max_rows = 1000\n",
    "pd.options.display.max_colwidth = None"
   ]
  },
  {
   "cell_type": "code",
   "execution_count": 3,
   "id": "4e38d1cd-85a2-4b03-8897-99b72c4667bd",
   "metadata": {},
   "outputs": [],
   "source": [
    "today = pd.to_datetime(\"today\").strftime(\"%Y-%m-%d\")"
   ]
  },
  {
   "cell_type": "markdown",
   "id": "20205dce-3902-43ef-8b01-8db4289904db",
   "metadata": {},
   "source": [
    "---"
   ]
  },
  {
   "cell_type": "code",
   "execution_count": 4,
   "id": "a5d32fb9-01a0-43f2-a2b1-a4a2045ef763",
   "metadata": {},
   "outputs": [],
   "source": [
    "trump_url = \"https://www.donaldjtrump.com/news/P\""
   ]
  },
  {
   "cell_type": "code",
   "execution_count": 5,
   "id": "ba193d21-ee6f-4137-92c8-11fafb15a233",
   "metadata": {},
   "outputs": [],
   "source": [
    "headers = {\n",
    "    \"User-Agent\": \"Mozilla/5.0 (Macintosh; Intel Mac OS X 10_11_5) \"\n",
    "    \"AppleWebKit/537.36 (KHTML, like Gecko) Chrome/50.0.2661.102 Safari/537.36\"\n",
    "}"
   ]
  },
  {
   "cell_type": "code",
   "execution_count": 6,
   "id": "79cecb98-86dd-43db-99bf-b5b93fafea73",
   "metadata": {},
   "outputs": [],
   "source": [
    "soups = []\n",
    "\n",
    "for i in range(0, 10, 10):\n",
    "    r = requests.get(trump_url + str(i), headers=headers)\n",
    "    soups.append(BeautifulSoup(r.text, \"html.parser\"))"
   ]
  },
  {
   "cell_type": "code",
   "execution_count": 7,
   "id": "773ab945-5dfe-4880-af00-310366905f27",
   "metadata": {},
   "outputs": [],
   "source": [
    "dicts = []\n",
    "\n",
    "for soup in soups:\n",
    "    for s in soup.find_all(\"a\", class_=\"item\"):\n",
    "        url = s[\"href\"]\n",
    "        date = s.find(\"p\").text\n",
    "        headline = s.find(\"h2\", class_=\"title-med-2\").text\n",
    "        data_dict = {\n",
    "            \"date\": date,\n",
    "            \"headline\": headline,\n",
    "            \"url\": str(\"https://www.donaldjtrump.com\") + url,\n",
    "        }\n",
    "        dicts.append(data_dict)"
   ]
  },
  {
   "cell_type": "code",
   "execution_count": 8,
   "id": "d44fc79a-f4a9-4068-a90d-f9576398e207",
   "metadata": {},
   "outputs": [],
   "source": [
    "df = pd.DataFrame(dicts).drop_duplicates()"
   ]
  },
  {
   "cell_type": "code",
   "execution_count": 9,
   "id": "d6ae6980-b5b8-4414-bf9e-0a7af23cd1af",
   "metadata": {},
   "outputs": [],
   "source": [
    "df[\"date\"] = pd.to_datetime(df[\"date\"])"
   ]
  },
  {
   "cell_type": "code",
   "execution_count": 10,
   "id": "64a4f168-095a-41f0-8a4b-7405ec11c31e",
   "metadata": {},
   "outputs": [
    {
     "data": {
      "text/html": [
       "<div>\n",
       "<style scoped>\n",
       "    .dataframe tbody tr th:only-of-type {\n",
       "        vertical-align: middle;\n",
       "    }\n",
       "\n",
       "    .dataframe tbody tr th {\n",
       "        vertical-align: top;\n",
       "    }\n",
       "\n",
       "    .dataframe thead th {\n",
       "        text-align: right;\n",
       "    }\n",
       "</style>\n",
       "<table border=\"1\" class=\"dataframe\">\n",
       "  <thead>\n",
       "    <tr style=\"text-align: right;\">\n",
       "      <th></th>\n",
       "      <th>date</th>\n",
       "      <th>headline</th>\n",
       "      <th>url</th>\n",
       "    </tr>\n",
       "  </thead>\n",
       "  <tbody>\n",
       "    <tr>\n",
       "      <th>0</th>\n",
       "      <td>2022-04-18</td>\n",
       "      <td>ICYMI: “Biden’s insulting response to our inflation crisis”</td>\n",
       "      <td>https://www.donaldjtrump.com/news/news-vfeuperd9m0</td>\n",
       "    </tr>\n",
       "    <tr>\n",
       "      <th>1</th>\n",
       "      <td>2022-04-18</td>\n",
       "      <td>ICYMI: “Inflation hits another 40-year high as recession fears loom”</td>\n",
       "      <td>https://www.donaldjtrump.com/news/news-y8emd3mjhe0</td>\n",
       "    </tr>\n",
       "    <tr>\n",
       "      <th>2</th>\n",
       "      <td>2022-04-18</td>\n",
       "      <td>Statement by Donald J. Trump, 45th President of the United States of America</td>\n",
       "      <td>https://www.donaldjtrump.com/news/news-rnct2f8cmm0</td>\n",
       "    </tr>\n",
       "    <tr>\n",
       "      <th>3</th>\n",
       "      <td>2022-04-17</td>\n",
       "      <td>Statement by Donald J. Trump, 45th President of the United States of America</td>\n",
       "      <td>https://www.donaldjtrump.com/news/news-qcqzbjgwxf0</td>\n",
       "    </tr>\n",
       "    <tr>\n",
       "      <th>4</th>\n",
       "      <td>2022-04-17</td>\n",
       "      <td>Statement by Donald J. Trump, 45th President of the United States of America</td>\n",
       "      <td>https://www.donaldjtrump.com/news/news-zqxen5324v0</td>\n",
       "    </tr>\n",
       "    <tr>\n",
       "      <th>5</th>\n",
       "      <td>2022-04-16</td>\n",
       "      <td>ICYMI: “‘America First’ Policy Group Calls on Wisconsin Legislature to Follow Special Counsel’s Election Integrity Reforms”</td>\n",
       "      <td>https://www.donaldjtrump.com/news/news-awucgmvrd40</td>\n",
       "    </tr>\n",
       "    <tr>\n",
       "      <th>6</th>\n",
       "      <td>2022-04-16</td>\n",
       "      <td>ICYMI: “Georgia Gov. Brian Kemp confronted on election integrity at Fulton County GOP event”</td>\n",
       "      <td>https://www.donaldjtrump.com/news/news-ssscmj2csr0</td>\n",
       "    </tr>\n",
       "    <tr>\n",
       "      <th>7</th>\n",
       "      <td>2022-04-15</td>\n",
       "      <td>PRESIDENT DONALD J. TRUMP ENDORSES J.D. VANCE FOR THE UNITED STATES SENATE IN OHIO</td>\n",
       "      <td>https://www.donaldjtrump.com/news/news-ub5egtsvmq0</td>\n",
       "    </tr>\n",
       "    <tr>\n",
       "      <th>8</th>\n",
       "      <td>2022-04-14</td>\n",
       "      <td>ICYMI: “Poll: Paxton Establishes Wide Lead in AG Runoff”</td>\n",
       "      <td>https://www.donaldjtrump.com/news/news-exghayqwkc1871</td>\n",
       "    </tr>\n",
       "    <tr>\n",
       "      <th>9</th>\n",
       "      <td>2022-04-14</td>\n",
       "      <td>ICYMI: “Letitia James takes eye off the ball and other commentary”</td>\n",
       "      <td>https://www.donaldjtrump.com/news/news-nqtehrbqtb1872</td>\n",
       "    </tr>\n",
       "  </tbody>\n",
       "</table>\n",
       "</div>"
      ],
      "text/plain": [
       "        date  \\\n",
       "0 2022-04-18   \n",
       "1 2022-04-18   \n",
       "2 2022-04-18   \n",
       "3 2022-04-17   \n",
       "4 2022-04-17   \n",
       "5 2022-04-16   \n",
       "6 2022-04-16   \n",
       "7 2022-04-15   \n",
       "8 2022-04-14   \n",
       "9 2022-04-14   \n",
       "\n",
       "                                                                                                                      headline  \\\n",
       "0                                                                  ICYMI: “Biden’s insulting response to our inflation crisis”   \n",
       "1                                                         ICYMI: “Inflation hits another 40-year high as recession fears loom”   \n",
       "2                                                 Statement by Donald J. Trump, 45th President of the United States of America   \n",
       "3                                                 Statement by Donald J. Trump, 45th President of the United States of America   \n",
       "4                                                 Statement by Donald J. Trump, 45th President of the United States of America   \n",
       "5  ICYMI: “‘America First’ Policy Group Calls on Wisconsin Legislature to Follow Special Counsel’s Election Integrity Reforms”   \n",
       "6                                 ICYMI: “Georgia Gov. Brian Kemp confronted on election integrity at Fulton County GOP event”   \n",
       "7                                           PRESIDENT DONALD J. TRUMP ENDORSES J.D. VANCE FOR THE UNITED STATES SENATE IN OHIO   \n",
       "8                                                                     ICYMI: “Poll: Paxton Establishes Wide Lead in AG Runoff”   \n",
       "9                                                           ICYMI: “Letitia James takes eye off the ball and other commentary”   \n",
       "\n",
       "                                                     url  \n",
       "0     https://www.donaldjtrump.com/news/news-vfeuperd9m0  \n",
       "1     https://www.donaldjtrump.com/news/news-y8emd3mjhe0  \n",
       "2     https://www.donaldjtrump.com/news/news-rnct2f8cmm0  \n",
       "3     https://www.donaldjtrump.com/news/news-qcqzbjgwxf0  \n",
       "4     https://www.donaldjtrump.com/news/news-zqxen5324v0  \n",
       "5     https://www.donaldjtrump.com/news/news-awucgmvrd40  \n",
       "6     https://www.donaldjtrump.com/news/news-ssscmj2csr0  \n",
       "7     https://www.donaldjtrump.com/news/news-ub5egtsvmq0  \n",
       "8  https://www.donaldjtrump.com/news/news-exghayqwkc1871  \n",
       "9  https://www.donaldjtrump.com/news/news-nqtehrbqtb1872  "
      ]
     },
     "execution_count": 10,
     "metadata": {},
     "output_type": "execute_result"
    }
   ],
   "source": [
    "df.head(10)"
   ]
  },
  {
   "cell_type": "code",
   "execution_count": 11,
   "id": "27c2dc6b-3065-46a2-9769-4ac448b4e6c8",
   "metadata": {},
   "outputs": [],
   "source": [
    "urls = df[\"url\"].to_list()\n",
    "\n",
    "release_soup = []\n",
    "\n",
    "for url in urls:\n",
    "    release_page = requests.get(url, headers=headers, timeout=15)\n",
    "    url_text_dict = {\n",
    "        'url': url,\n",
    "        'page': BeautifulSoup(release_page.text, \"html.parser\"),\n",
    "    }\n",
    "    release_soup.append(url_text_dict)"
   ]
  },
  {
   "cell_type": "code",
   "execution_count": null,
   "id": "714cde19-6d01-4574-83c0-3c4e6acc9a95",
   "metadata": {},
   "outputs": [],
   "source": []
  },
  {
   "cell_type": "code",
   "execution_count": 12,
   "id": "89290350-74f9-487c-bfdc-b61cccc5825a",
   "metadata": {},
   "outputs": [],
   "source": [
    "body_text_dicts = []\n",
    "\n",
    "for release in release_soup:\n",
    "    for rl in release['page'].find_all(\"main\", class_=\"vp-80\"):\n",
    "        try:\n",
    "            headline = rl.find(\"h1\", class_=\"title\").text\n",
    "            date = rl.find(\"p\", class_=\"date\").text\n",
    "            body_text = rl.find(\"div\", class_=\"body\").text\n",
    "            url = release['url']\n",
    "            text_dict = {\n",
    "                \"headline\": headline,\n",
    "                \"date\": date,\n",
    "                \"body_text\": body_text,\n",
    "                \"url\": url,\n",
    "            }\n",
    "            body_text_dicts.append(text_dict)\n",
    "        except:\n",
    "            continue"
   ]
  },
  {
   "cell_type": "code",
   "execution_count": 13,
   "id": "e28567ac-1c49-41d6-9601-0de884db2ff8",
   "metadata": {},
   "outputs": [],
   "source": [
    "text_df = pd.DataFrame(body_text_dicts).drop_duplicates()"
   ]
  },
  {
   "cell_type": "code",
   "execution_count": 14,
   "id": "aa810b7b-7a90-45a0-b83e-d09b1c39dceb",
   "metadata": {},
   "outputs": [
    {
     "data": {
      "text/html": [
       "<div>\n",
       "<style scoped>\n",
       "    .dataframe tbody tr th:only-of-type {\n",
       "        vertical-align: middle;\n",
       "    }\n",
       "\n",
       "    .dataframe tbody tr th {\n",
       "        vertical-align: top;\n",
       "    }\n",
       "\n",
       "    .dataframe thead th {\n",
       "        text-align: right;\n",
       "    }\n",
       "</style>\n",
       "<table border=\"1\" class=\"dataframe\">\n",
       "  <thead>\n",
       "    <tr style=\"text-align: right;\">\n",
       "      <th></th>\n",
       "      <th>headline</th>\n",
       "      <th>date</th>\n",
       "      <th>body_text</th>\n",
       "      <th>url</th>\n",
       "    </tr>\n",
       "  </thead>\n",
       "  <tbody>\n",
       "    <tr>\n",
       "      <th>0</th>\n",
       "      <td>ICYMI: “Biden’s insulting response to our inflation crisis”</td>\n",
       "      <td>04/18/22</td>\n",
       "      <td>\\nRead the full article from the New York Post here. \\n</td>\n",
       "      <td>https://www.donaldjtrump.com/news/news-vfeuperd9m0</td>\n",
       "    </tr>\n",
       "    <tr>\n",
       "      <th>1</th>\n",
       "      <td>ICYMI: “Inflation hits another 40-year high as recession fears loom”</td>\n",
       "      <td>04/18/22</td>\n",
       "      <td>\\nRead the full article by Tom Howell Jr., Haris Alic, and Mica Soellner with the Washington Times here. \\n</td>\n",
       "      <td>https://www.donaldjtrump.com/news/news-y8emd3mjhe0</td>\n",
       "    </tr>\n",
       "    <tr>\n",
       "      <th>2</th>\n",
       "      <td>Statement by Donald J. Trump, 45th President of the United States of America</td>\n",
       "      <td>04/18/22</td>\n",
       "      <td>\\nWith the horrible Subway Shootings and Violent Crime in New York being at an all-time high, where people are afraid to walk the streets, the racist and highly partisan Attorney General of New York State, failed Gubernatorial candidate Letitia James, should focus her efforts on saving the State of New York and ending its reputation as a Crime Capital of the World, instead of spending millions of dollars and utilizing a large portion of her office in going after Donald J. Trump and the Trump Organization (for many years!), who have probably done more for New York than virtually any other person or group, including employing many wonderful people and paying millions and millions of dollars in taxes. This never-ending Witch Hunt must stop. We don’t need racist political hacks going after good, hardworking people for highly partisan political gain. The people of our Country see right through it all, and won’t take this Radical Left “sickness” anymore. Make New York Great Again! \\n</td>\n",
       "      <td>https://www.donaldjtrump.com/news/news-rnct2f8cmm0</td>\n",
       "    </tr>\n",
       "    <tr>\n",
       "      <th>3</th>\n",
       "      <td>Statement by Donald J. Trump, 45th President of the United States of America</td>\n",
       "      <td>04/17/22</td>\n",
       "      <td>\\nHappy Easter to failed gubernatorial candidate and racist Attorney General Letitia James. May she remain healthy despite the fact that she will continue to drive business out of New York while at the same time keeping crime, death, and destruction in New York!\\n</td>\n",
       "      <td>https://www.donaldjtrump.com/news/news-qcqzbjgwxf0</td>\n",
       "    </tr>\n",
       "    <tr>\n",
       "      <th>4</th>\n",
       "      <td>Statement by Donald J. Trump, 45th President of the United States of America</td>\n",
       "      <td>04/17/22</td>\n",
       "      <td>\\nHappy Easter to all including the Radical Left Maniacs who are doing everything possible to destroy our Country. May they not succeed, but let them, nevertheless, be happy, healthy, wealthy, and well!\\n</td>\n",
       "      <td>https://www.donaldjtrump.com/news/news-zqxen5324v0</td>\n",
       "    </tr>\n",
       "  </tbody>\n",
       "</table>\n",
       "</div>"
      ],
      "text/plain": [
       "                                                                       headline  \\\n",
       "0                   ICYMI: “Biden’s insulting response to our inflation crisis”   \n",
       "1          ICYMI: “Inflation hits another 40-year high as recession fears loom”   \n",
       "2  Statement by Donald J. Trump, 45th President of the United States of America   \n",
       "3  Statement by Donald J. Trump, 45th President of the United States of America   \n",
       "4  Statement by Donald J. Trump, 45th President of the United States of America   \n",
       "\n",
       "       date  \\\n",
       "0  04/18/22   \n",
       "1  04/18/22   \n",
       "2  04/18/22   \n",
       "3  04/17/22   \n",
       "4  04/17/22   \n",
       "\n",
       "                                                                                                                                                                                                                                                                                                                                                                                                                                                                                                                                                                                                                                                                                                                                                                                                                                                                                                                                                                                                                          body_text  \\\n",
       "0                                                                                                                                                                                                                                                                                                                                                                                                                                                                                                                                                                                                                                                                                                                                                                                                                                                                                                                                                                           \\nRead the full article from the New York Post here. \\n   \n",
       "1                                                                                                                                                                                                                                                                                                                                                                                                                                                                                                                                                                                                                                                                                                                                                                                                                                                                                                                       \\nRead the full article by Tom Howell Jr., Haris Alic, and Mica Soellner with the Washington Times here. \\n   \n",
       "2  \\nWith the horrible Subway Shootings and Violent Crime in New York being at an all-time high, where people are afraid to walk the streets, the racist and highly partisan Attorney General of New York State, failed Gubernatorial candidate Letitia James, should focus her efforts on saving the State of New York and ending its reputation as a Crime Capital of the World, instead of spending millions of dollars and utilizing a large portion of her office in going after Donald J. Trump and the Trump Organization (for many years!), who have probably done more for New York than virtually any other person or group, including employing many wonderful people and paying millions and millions of dollars in taxes. This never-ending Witch Hunt must stop. We don’t need racist political hacks going after good, hardworking people for highly partisan political gain. The people of our Country see right through it all, and won’t take this Radical Left “sickness” anymore. Make New York Great Again! \\n   \n",
       "3                                                                                                                                                                                                                                                                                                                                                                                                                                                                                                                                                                                                                                                                                                                                                          \\nHappy Easter to failed gubernatorial candidate and racist Attorney General Letitia James. May she remain healthy despite the fact that she will continue to drive business out of New York while at the same time keeping crime, death, and destruction in New York!\\n   \n",
       "4                                                                                                                                                                                                                                                                                                                                                                                                                                                                                                                                                                                                                                                                                                                                                                                                                      \\nHappy Easter to all including the Radical Left Maniacs who are doing everything possible to destroy our Country. May they not succeed, but let them, nevertheless, be happy, healthy, wealthy, and well!\\n   \n",
       "\n",
       "                                                  url  \n",
       "0  https://www.donaldjtrump.com/news/news-vfeuperd9m0  \n",
       "1  https://www.donaldjtrump.com/news/news-y8emd3mjhe0  \n",
       "2  https://www.donaldjtrump.com/news/news-rnct2f8cmm0  \n",
       "3  https://www.donaldjtrump.com/news/news-qcqzbjgwxf0  \n",
       "4  https://www.donaldjtrump.com/news/news-zqxen5324v0  "
      ]
     },
     "execution_count": 14,
     "metadata": {},
     "output_type": "execute_result"
    }
   ],
   "source": [
    "text_df.head()"
   ]
  },
  {
   "cell_type": "code",
   "execution_count": 15,
   "id": "2151cb67-28fe-456e-b4b7-791ff62ef05d",
   "metadata": {},
   "outputs": [],
   "source": [
    "text_df[\"body_text\"] = text_df[\"body_text\"].str.replace(\"\\n\", \"\")\n",
    "text_df[\"date\"] = pd.to_datetime(text_df[\"date\"])"
   ]
  },
  {
   "cell_type": "code",
   "execution_count": 16,
   "id": "59fdc7d4-c19e-44b0-b9f6-bcf4c7a19c68",
   "metadata": {},
   "outputs": [],
   "source": [
    "new_df = pd.merge(df, text_df, on=[\"date\", \"headline\", \"url\"])"
   ]
  },
  {
   "cell_type": "code",
   "execution_count": 18,
   "id": "3bde11d2-7b4a-4757-a7c4-77c5325c34c2",
   "metadata": {},
   "outputs": [],
   "source": [
    "new_df[\"year\"] = new_df[\"date\"].dt.year\n",
    "new_df[\"month\"] = new_df[\"date\"].dt.month_name()\n",
    "new_df[\"weekday\"] = new_df[\"date\"].dt.day_name()\n",
    "new_df[\"month_year\"] = pd.to_datetime(new_df[\"date\"]).dt.to_period(\"M\")"
   ]
  },
  {
   "cell_type": "code",
   "execution_count": 19,
   "id": "902e5ec1-990c-4d6c-8650-ca5225e2a71d",
   "metadata": {},
   "outputs": [],
   "source": [
    "new_df.to_csv(f\"data/processed/all_press_releases_latest.csv\", index=False)"
   ]
  },
  {
   "cell_type": "code",
   "execution_count": 20,
   "id": "cd50941c-0c55-45f4-8eb6-9e905f06f7ea",
   "metadata": {},
   "outputs": [],
   "source": [
    "archive_df = pd.read_csv('data/processed/all_press_releases_archive.csv')"
   ]
  },
  {
   "cell_type": "code",
   "execution_count": 21,
   "id": "ad196c0a-3566-4d25-b51c-0a6097c65a7b",
   "metadata": {},
   "outputs": [],
   "source": [
    "new_archive_df = pd.concat([archive_df, new_df]).drop_duplicates().reset_index(drop='True')"
   ]
  },
  {
   "cell_type": "code",
   "execution_count": 22,
   "id": "13d3628f-1e61-4db2-92a6-ec25eff56137",
   "metadata": {},
   "outputs": [],
   "source": [
    "new_archive_df['date'] = pd.to_datetime(new_archive_df['date'])"
   ]
  },
  {
   "cell_type": "code",
   "execution_count": 23,
   "id": "2f2414c7-7a6e-4b98-ae3e-1af169085a1e",
   "metadata": {},
   "outputs": [],
   "source": [
    "new_archive_df = new_archive_df.sort_values('date', ascending=False).reset_index(drop='True')"
   ]
  },
  {
   "cell_type": "code",
   "execution_count": 24,
   "id": "f6ae7c3a-3444-43e8-938a-05dfbed3a720",
   "metadata": {},
   "outputs": [],
   "source": [
    "new_archive_df.to_csv(\"data/processed/archives_timeseries/all_press_releases_archive.csv\", index=False)\n",
    "new_archive_df.to_csv(f\"data/processed/archives_timeseries/all_press_releases_archive_{today}.csv\", index=False)\n",
    "new_archive_df.to_csv(f\"data/processed/all_press_releases_archive.csv\", index=False)"
   ]
  },
  {
   "cell_type": "code",
   "execution_count": 25,
   "id": "c806577d-3aca-4b0b-b1fb-6f3ce89e72e3",
   "metadata": {},
   "outputs": [
    {
     "data": {
      "text/plain": [
       "1526"
      ]
     },
     "execution_count": 25,
     "metadata": {},
     "output_type": "execute_result"
    }
   ],
   "source": [
    "len(new_archive_df)"
   ]
  },
  {
   "cell_type": "code",
   "execution_count": 26,
   "id": "d4d27aa8-1343-46ea-8d3f-add82298f469",
   "metadata": {},
   "outputs": [],
   "source": [
    "diff = (len(new_archive_df) - len(archive_df)) - len(new_df)"
   ]
  },
  {
   "cell_type": "code",
   "execution_count": 27,
   "id": "57d83d31-dcd8-4bb7-978b-b61229fe41f5",
   "metadata": {},
   "outputs": [],
   "source": [
    "# if diff >= 1:\n",
    "#     if diff > 1:\n",
    "#         email = f\"We've scraped {diff} new items from the former president's news site. See the latest here: https://github.com/gridviz/trump-releases/blob/main/data/processed/all_press_releases_latest.csv\"\n",
    "#         subject = f'New Trump scraper result: {diff} new items!'\n",
    "#     else: \n",
    "#         email = f\"We've scraped a new item from the former president's news site. See the latest here: https://github.com/gridviz/trump-releases/blob/main/data/processed/all_press_releases_latest.csv\"\n",
    "#         subject = f'New Trump scraper result: one new item!'\n",
    "# else: \n",
    "#     email = 'The scrape turned up nothing new.'\n",
    "#     subject = 'New scraper result: Nothing to see here.'"
   ]
  },
  {
   "cell_type": "code",
   "execution_count": 28,
   "id": "5e782bb3-ca35-4138-b02c-17322a2627ba",
   "metadata": {},
   "outputs": [],
   "source": [
    "# # get email and password from environment variables\n",
    "# EMAIL_ADDRESS = os.environ.get('EMAIL_ADDRESS')\n",
    "# EMAIL_PASSWORD = os.environ.get('EMAIL_PASSWORD')\n",
    "# EMAIL_RECIPIENT = os.environ.get('EMAIL_RECIPIENT')\n",
    "    \n",
    "# # set up email content\n",
    "# msg = EmailMessage()\n",
    "# msg['Subject'] = subject\n",
    "# msg['From'] = EMAIL_ADDRESS\n",
    "# msg['To'] = EMAIL_RECIPIENT\n",
    "# msg.set_content(f'{email}')\n",
    "    \n",
    "# # send email\n",
    "# with smtplib.SMTP_SSL('smtp.gmail.com', 465) as smtp:\n",
    "#     smtp.login(EMAIL_ADDRESS, EMAIL_PASSWORD)\n",
    "#     smtp.send_message(msg)"
   ]
  }
 ],
 "metadata": {
  "kernelspec": {
   "display_name": "Python 3 (ipykernel)",
   "language": "python",
   "name": "python3"
  },
  "language_info": {
   "codemirror_mode": {
    "name": "ipython",
    "version": 3
   },
   "file_extension": ".py",
   "mimetype": "text/x-python",
   "name": "python",
   "nbconvert_exporter": "python",
   "pygments_lexer": "ipython3",
   "version": "3.8.9"
  }
 },
 "nbformat": 4,
 "nbformat_minor": 5
}
